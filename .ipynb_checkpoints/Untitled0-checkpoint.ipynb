{
 "metadata": {
  "name": "",
  "signature": "sha256:ad1e72fff245fe32eb9cc87cb0e1898301b47e7dbfaa9c7a6ffadaa2f1e4e60a"
 },
 "nbformat": 3,
 "nbformat_minor": 0,
 "worksheets": []
}