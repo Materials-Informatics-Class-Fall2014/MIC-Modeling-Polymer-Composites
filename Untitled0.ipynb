{
 "metadata": {
  "name": "",
  "signature": "sha256:7eb736ee1587f27b760afa09d54f276998d6ea9695852422496243c7b670b0aa"
 },
 "nbformat": 3,
 "nbformat_minor": 0,
 "worksheets": [
  {
   "cells": [
    {
     "cell_type": "code",
     "collapsed": false,
     "input": [
      "def res_red(filename,el,sn):\n",
      "    \"\"\"\n",
      "    Summary:    \n",
      "        This function reads the E11 values from a .dat file and reorganizes\n",
      "        the data into a el x el x el array with the correct organization\n",
      "        It will also plot a certain x-slice in the dataset if called within\n",
      "        this script.\n",
      "    Inputs:\n",
      "        filename (string): the name of the '.dat' file containing the \n",
      "        FEM response\n",
      "        el (int): the number of elements per side of the microstructure cube\n",
      "    Outputs:\n",
      "        r_mat ([el,el,el],float): the FEM response of the '.dat' file of\n",
      "        interest\n",
      "    \"\"\"\n",
      "    f = open('tst.dat', \"r\")\n",
      "\n",
      "    linelist = f.readlines()\n",
      "\n",
      "    # finds a location several lines above the start of the data\n",
      "    # linelist[n] reads the entire line at location n\n",
      "    for ln in xrange(1000):\n",
      "        if 'THE FOLLOWING TABLE' in linelist[ln]:\n",
      "            break\n",
      "\n",
      "    # line0 is the index of first line of the data\n",
      "    line0 = ln + 5;      \n",
      "\n",
      "    r_mat = np.zeros([el**3,8])\n",
      "    c = -1\n",
      "\n",
      "    # this series of loops generates a 9261x8 dataset of E11s (element x integration point) \n",
      "    for k in xrange(el**3):\n",
      "        for jj in xrange(8):\n",
      "            c += 1                        \n",
      "            r_mat[k,jj] = linelist[line0 + c].split()[2]\n",
      "    \n",
      "    f.close()    \n",
      "    \n",
      "    # here we average all 8 integration points in each element cell\n",
      "    r_mat = np.mean(r_mat, axis=1)\n",
      "\n",
      "    return r_mat"
     ],
     "language": "python",
     "metadata": {},
     "outputs": []
    }
   ],
   "metadata": {}
  }
 ]
}